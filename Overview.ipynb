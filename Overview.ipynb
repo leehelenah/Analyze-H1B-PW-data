{
 "cells": [
  {
   "cell_type": "markdown",
   "metadata": {},
   "source": [
    "### Objectives:\n",
    "\n",
    "- step 1: Get the wage data\n",
    "  * download the data from Department of Labor\n",
    "  * exploratory data analysis\n",
    "\n",
    "\n",
    "- step 2: Get the housing data\n",
    "  * download the data from Zillow\n",
    "  * exploratory data analysis\n",
    "\n",
    "\n",
    "- step 3: Build an ETL pipeline for the wage data\n",
    "  * extract data from S3\n",
    "  * process them using Spark\n",
    "  * load the data back into S3\n",
    "\n",
    "\n",
    "- step 4: Build an ETL pipeline for the housing data\n",
    "  * extract data from S3\n",
    "  * process them using Spark\n",
    "  * load the data back into S3"
   ]
  },
  {
   "cell_type": "markdown",
   "metadata": {},
   "source": [
    "This report will show\n",
    "- Insight 1 - which company pays the best (general vs. H1b)\n",
    "\n",
    "- Insight 2  -which company files the most number of h1b cases\n",
    "\n",
    "- Insight 3 - which occupation earns the best (general)\n",
    "\n",
    "- Insight 4 - which county has the best rent/price ratio?\n",
    "\n",
    "- Insight 5 - which county has the lowest rent/wage ratio\n",
    "\n",
    "- Insight 6 - which county has the lowest price/wage ratio"
   ]
  },
  {
   "cell_type": "markdown",
   "metadata": {},
   "source": [
    "Appendix: <br>\n",
    "This project was inspired by <br>\n",
    "https://github.com/Modingwa/Data-Engineering-Capstone-Project <br>\n",
    "https://pttcareer.com/oversea_job/M.1601580566.A.B11.html"
   ]
  }
 ],
 "metadata": {
  "kernelspec": {
   "display_name": "Python 3",
   "language": "python",
   "name": "python3"
  },
  "language_info": {
   "codemirror_mode": {
    "name": "ipython",
    "version": 3
   },
   "file_extension": ".py",
   "mimetype": "text/x-python",
   "name": "python",
   "nbconvert_exporter": "python",
   "pygments_lexer": "ipython3",
   "version": "3.7.4"
  }
 },
 "nbformat": 4,
 "nbformat_minor": 4
}
