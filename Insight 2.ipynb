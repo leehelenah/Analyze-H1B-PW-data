{
 "cells": [
  {
   "cell_type": "markdown",
   "metadata": {
    "editable": true
   },
   "source": [
    "Insight 2 - h1b - which company files the most number of cases"
   ]
  },
  {
   "cell_type": "code",
   "execution_count": 1,
   "metadata": {
    "editable": true
   },
   "outputs": [],
   "source": [
    "import os\n",
    "from spark_utils import *\n",
    "from pyspark.sql import functions as F\n",
    "\n",
    "spark = create_spark_session()\n",
    "bucket = 's3a://helenaudacitybucket'"
   ]
  },
  {
   "cell_type": "code",
   "execution_count": 2,
   "metadata": {
    "editable": true
   },
   "outputs": [],
   "source": [
    "load_lca = spark.read.parquet(os.path.join(bucket, 'processed_data', 'LCA'))"
   ]
  },
  {
   "cell_type": "code",
   "execution_count": 3,
   "metadata": {
    "editable": true
   },
   "outputs": [
    {
     "name": "stdout",
     "output_type": "stream",
     "text": [
      "+--------------------+------------------+-----+\n",
      "|       EMPLOYER_NAME|         mean_wage|count|\n",
      "+--------------------+------------------+-----+\n",
      "|COGNIZANT TECHNOL...| 89940.31798866855| 8472|\n",
      "|TATA CONSULTANCY ...|  72351.8312009905| 2423|\n",
      "|AMAZON.COM SERVIC...|140231.95045045044| 2220|\n",
      "|     INFOSYS LIMITED| 410190.1941801903| 1787|\n",
      "|       Accenture LLP| 97034.37583892618| 1490|\n",
      "|Microsoft Corpora...|149934.93356164385| 1460|\n",
      "|CAPGEMINI AMERICA...| 91383.73736536868| 1207|\n",
      "|          Google LLC|154415.36932849366| 1102|\n",
      "|Tata Consultancy ...| 81184.95777548918|  971|\n",
      "|   HCL AMERICA, INC.|102905.18504901961|  816|\n",
      "|Ernst & Young U.S...|124127.14997452234|  785|\n",
      "|Deloitte Consulti...|120655.77177177178|  666|\n",
      "|          Apple Inc.|169227.75787728027|  603|\n",
      "|COMPUNNEL SOFTWAR...| 96541.94158075601|  582|\n",
      "|Amazon.com Servic...|133439.87490636704|  534|\n",
      "|       WIPRO LIMITED| 79075.55555555556|  504|\n",
      "|AMAZON WEB SERVIC...|133940.81652173912|  460|\n",
      "|      FACEBOOK, INC.| 170284.4873734939|  415|\n",
      "|LARSEN & TOUBRO I...|  91372.5601965602|  407|\n",
      "|Qualcomm Technolo...|121949.05985037406|  401|\n",
      "+--------------------+------------------+-----+\n",
      "only showing top 20 rows\n",
      "\n"
     ]
    }
   ],
   "source": [
    "load_lca.groupBy(\"EMPLOYER_NAME\").\\\n",
    "agg(F.avg('ANNUAL_INCOME').alias('mean_wage'), \n",
    "    F.count('ANNUAL_INCOME').alias('count')\n",
    "   ).orderBy('count', ascending=False).show()"
   ]
  }
 ],
 "metadata": {
  "kernelspec": {
   "display_name": "Python 3",
   "language": "python",
   "name": "python3"
  },
  "language_info": {
   "codemirror_mode": {
    "name": "ipython",
    "version": 3
   },
   "file_extension": ".py",
   "mimetype": "text/x-python",
   "name": "python",
   "nbconvert_exporter": "python",
   "pygments_lexer": "ipython3",
   "version": "3.6.3"
  }
 },
 "nbformat": 4,
 "nbformat_minor": 4
}
