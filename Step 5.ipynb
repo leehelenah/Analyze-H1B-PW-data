{
 "cells": [
  {
   "cell_type": "markdown",
   "metadata": {
    "editable": true
   },
   "source": [
    "### Step 5: Post-Procressing Data Quality Checks\n",
    "* If number of rows > 0\n",
    "* If number of columns > 0\n",
    "* If data schema is correct"
   ]
  },
  {
   "cell_type": "code",
   "execution_count": 1,
   "metadata": {
    "editable": true
   },
   "outputs": [],
   "source": [
    "import os\n",
    "from spark_utils import *\n",
    "from pyspark.sql import functions as F\n",
    "\n",
    "spark = create_spark_session()\n",
    "bucket = 's3a://helenaudacitybucket'"
   ]
  },
  {
   "cell_type": "code",
   "execution_count": 2,
   "metadata": {
    "editable": true
   },
   "outputs": [
    {
     "name": "stdout",
     "output_type": "stream",
     "text": [
      "Zillow_price_rent\n",
      "(2208, 6)\n",
      "root\n",
      " |-- Zipcode: long (nullable = true)\n",
      " |-- State: string (nullable = true)\n",
      " |-- Metro: string (nullable = true)\n",
      " |-- CountyName: string (nullable = true)\n",
      " |-- 2021_07_Price: double (nullable = true)\n",
      " |-- 2021_07_Rent: double (nullable = true)\n",
      "\n",
      "==============================\n",
      "PW\n",
      "(98435, 23)\n",
      "root\n",
      " |-- CASE_STATUS: string (nullable = true)\n",
      " |-- PWD_SOC_CODE: string (nullable = true)\n",
      " |-- PWD_WAGE_RATE: integer (nullable = true)\n",
      " |-- PRIMARY_WORKSITE_CITY: string (nullable = true)\n",
      " |-- PRIMARY_WORKSITE_COUNTY: string (nullable = true)\n",
      " |-- PRIMARY_WORKSITE_STATE: string (nullable = true)\n",
      " |-- PRIMARY_WORKSITE_POSTAL_CODE: string (nullable = true)\n",
      " |-- EMPLOYER_CITY: string (nullable = true)\n",
      " |-- EMPLOYER_STATE: string (nullable = true)\n",
      " |-- EMPLOYER_POSTAL_CODE: integer (nullable = true)\n",
      " |-- EMPLOYER_COUNTRY: string (nullable = true)\n",
      " |-- BUSINESS_NAME: string (nullable = true)\n",
      " |-- JOB_TITLE: string (nullable = true)\n",
      " |-- SUGGESTED_SOC_CODE: string (nullable = true)\n",
      " |-- SUGGESTED_SOC_TITLE: string (nullable = true)\n",
      " |-- PRIMARY_EDUCATION_LEVEL: string (nullable = true)\n",
      " |-- OTHER_EDUCATION: string (nullable = true)\n",
      " |-- MAJOR: string (nullable = true)\n",
      " |-- SECOND_DIPLOMA: string (nullable = true)\n",
      " |-- SECOND_DIPLOMA_MAJOR: string (nullable = true)\n",
      " |-- FILE_SOURCE: string (nullable = true)\n",
      " |-- WORKSITE_COUNTY_UPPER: string (nullable = true)\n",
      " |-- id: long (nullable = true)\n",
      "\n",
      "==============================\n",
      "LCA\n",
      "(108002, 19)\n",
      "root\n",
      " |-- CASE_STATUS: string (nullable = true)\n",
      " |-- DECISION_DATE: string (nullable = true)\n",
      " |-- JOB_TITLE: string (nullable = true)\n",
      " |-- SOC_CODE: string (nullable = true)\n",
      " |-- SOC_TITLE: string (nullable = true)\n",
      " |-- FULL_TIME_POSITION: string (nullable = true)\n",
      " |-- WORKSITE_COUNTY: string (nullable = true)\n",
      " |-- WORKSITE_STATE: string (nullable = true)\n",
      " |-- WORKSITE_POSTAL_CODE: integer (nullable = true)\n",
      " |-- EMPLOYER_NAME: string (nullable = true)\n",
      " |-- WAGE_RATE_OF_PAY_FROM: integer (nullable = true)\n",
      " |-- WAGE_RATE_OF_PAY_TO: integer (nullable = true)\n",
      " |-- WAGE_UNIT_OF_PAY: string (nullable = true)\n",
      " |-- PREVAILING_WAGE: integer (nullable = true)\n",
      " |-- PW_UNIT_OF_PAY: string (nullable = true)\n",
      " |-- ANNUAL_INCOME: integer (nullable = true)\n",
      " |-- FILE_SOURCE: string (nullable = true)\n",
      " |-- WORKSITE_COUNTY_UPPER: string (nullable = true)\n",
      " |-- id: long (nullable = true)\n",
      "\n",
      "==============================\n"
     ]
    }
   ],
   "source": [
    "for table_name in ['Zillow_price_rent', 'PW', 'LCA']:\n",
    "    df = spark.read.parquet(os.path.join(bucket, 'processed_data', table_name))\n",
    "    print(table_name)\n",
    "    print((df.count(), len(df.columns)))\n",
    "    assert df.count() > 0\n",
    "    assert len(df.columns) > 0\n",
    "    df.printSchema()\n",
    "    print('==='*10)"
   ]
  }
 ],
 "metadata": {
  "kernelspec": {
   "display_name": "Python 3",
   "language": "python",
   "name": "python3"
  },
  "language_info": {
   "codemirror_mode": {
    "name": "ipython",
    "version": 3
   },
   "file_extension": ".py",
   "mimetype": "text/x-python",
   "name": "python",
   "nbconvert_exporter": "python",
   "pygments_lexer": "ipython3",
   "version": "3.6.3"
  }
 },
 "nbformat": 4,
 "nbformat_minor": 4
}
