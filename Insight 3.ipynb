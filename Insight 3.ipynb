{
 "cells": [
  {
   "cell_type": "markdown",
   "metadata": {
    "editable": true
   },
   "source": [
    "Insight 3 - which occupation has a high prevailing wage"
   ]
  },
  {
   "cell_type": "code",
   "execution_count": 1,
   "metadata": {
    "editable": true
   },
   "outputs": [],
   "source": [
    "import os\n",
    "from spark_utils import *\n",
    "from pyspark.sql import functions as F\n",
    "\n",
    "spark = create_spark_session()\n",
    "bucket = 's3a://helenaudacitybucket'"
   ]
  },
  {
   "cell_type": "code",
   "execution_count": 2,
   "metadata": {
    "editable": true
   },
   "outputs": [],
   "source": [
    "load_pw = spark.read.parquet(os.path.join(bucket, 'processed_data', 'PW'))"
   ]
  },
  {
   "cell_type": "code",
   "execution_count": 3,
   "metadata": {
    "editable": true
   },
   "outputs": [
    {
     "name": "stdout",
     "output_type": "stream",
     "text": [
      "+--------------------+-----------------------+------------------+-----+\n",
      "| SUGGESTED_SOC_TITLE|PRIMARY_EDUCATION_LEVEL|         mean_wage|count|\n",
      "+--------------------+-----------------------+------------------+-----+\n",
      "|  Financial Managers|        Doctorate (PhD)|          235492.5|    4|\n",
      "|    Chief Executives|        Doctorate (PhD)|          229902.0|    1|\n",
      "|Marketing Manager...|             Bachelor's|          227406.0|    1|\n",
      "|General and Opera...|        Doctorate (PhD)|          223621.0|    1|\n",
      "|Life Scientists, ...|               Master's|          210371.0|    1|\n",
      "|        Neurologists|        Doctorate (PhD)|          208000.0|    2|\n",
      "|Human Resources M...|   Other degree (JD,...|          206565.0|    1|\n",
      "|Airline Pilots, C...|             Bachelor's|          201875.0|    4|\n",
      "|Financial Manager...|               Master's|          198313.0|    7|\n",
      "|Claims Adjusters,...|             Bachelor's|          196581.0|    1|\n",
      "|Natural Sciences ...|   Other degree (JD,...|         195353.75|    4|\n",
      "| Managers, All Other|   Other degree (JD,...|          194958.5|    2|\n",
      "|Regulatory Affair...|        Doctorate (PhD)|          191536.5|    2|\n",
      "|Business Intellig...|   Other degree (JD,...|          189613.0|    1|\n",
      "|Computer and Info...|        Doctorate (PhD)|188976.66666666666|    9|\n",
      "|   Security Managers|             Bachelor's|          188427.0|    1|\n",
      "|Physicians and Su...|        Doctorate (PhD)|          185869.0|    1|\n",
      "|Airline Pilots, C...|            Associate's|          183907.0|    1|\n",
      "|Medical and Healt...|        Doctorate (PhD)|          182957.0|    1|\n",
      "|Clinical Research...|   Other degree (JD,...|          180887.0|    2|\n",
      "+--------------------+-----------------------+------------------+-----+\n",
      "only showing top 20 rows\n",
      "\n"
     ]
    }
   ],
   "source": [
    "load_pw.groupBy(\"SUGGESTED_SOC_TITLE\",\"PRIMARY_EDUCATION_LEVEL\").\\\n",
    "agg(F.avg('PWD_WAGE_RATE').alias('mean_wage'), \n",
    "    F.count('PWD_WAGE_RATE').alias('count')\n",
    "   ).orderBy('mean_wage', ascending=False).show()"
   ]
  },
  {
   "cell_type": "markdown",
   "metadata": {
    "editable": true
   },
   "source": [
    "Ans: Doctors, pilots, and financial managers"
   ]
  },
  {
   "cell_type": "code",
   "execution_count": null,
   "metadata": {
    "editable": true
   },
   "outputs": [],
   "source": []
  }
 ],
 "metadata": {
  "kernelspec": {
   "display_name": "Python 3",
   "language": "python",
   "name": "python3"
  },
  "language_info": {
   "codemirror_mode": {
    "name": "ipython",
    "version": 3
   },
   "file_extension": ".py",
   "mimetype": "text/x-python",
   "name": "python",
   "nbconvert_exporter": "python",
   "pygments_lexer": "ipython3",
   "version": "3.6.3"
  }
 },
 "nbformat": 4,
 "nbformat_minor": 4
}
