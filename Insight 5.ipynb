{
 "cells": [
  {
   "cell_type": "markdown",
   "metadata": {
    "editable": true
   },
   "source": [
    "Insight 5 - Which zipcode area has the lowest Rent-to-Wage ratio (Aim to indentify the best places to live for new immigrants)"
   ]
  },
  {
   "cell_type": "code",
   "execution_count": 1,
   "metadata": {
    "editable": true
   },
   "outputs": [],
   "source": [
    "import os\n",
    "from spark_utils import *\n",
    "from pyspark.sql import functions as F\n",
    "\n",
    "spark = create_spark_session()\n",
    "bucket = 's3a://helenaudacitybucket'"
   ]
  },
  {
   "cell_type": "markdown",
   "metadata": {
    "editable": true
   },
   "source": [
    "Note: Here we take the LCA income that is based on the income of H1b holders. \n",
    "The prevailing wage data seems biased (They probably intentionally remove serveral high income data points from prevailing wage data.)"
   ]
  },
  {
   "cell_type": "code",
   "execution_count": 2,
   "metadata": {
    "editable": true
   },
   "outputs": [],
   "source": [
    "load_zillow = spark.read.parquet(os.path.join(bucket, 'processed_data', 'Zillow_price_rent'))\n",
    "load_zillow.createOrReplaceTempView('zillow')\n",
    "load_lca = spark.read.parquet(os.path.join(bucket, 'processed_data', 'LCA'))\n",
    "load_lca.createOrReplaceTempView('lca')"
   ]
  },
  {
   "cell_type": "code",
   "execution_count": 3,
   "metadata": {
    "editable": true
   },
   "outputs": [
    {
     "data": {
      "text/html": [
       "<div>\n",
       "<style scoped>\n",
       "    .dataframe tbody tr th:only-of-type {\n",
       "        vertical-align: middle;\n",
       "    }\n",
       "\n",
       "    .dataframe tbody tr th {\n",
       "        vertical-align: top;\n",
       "    }\n",
       "\n",
       "    .dataframe thead th {\n",
       "        text-align: right;\n",
       "    }\n",
       "</style>\n",
       "<table border=\"1\" class=\"dataframe\">\n",
       "  <thead>\n",
       "    <tr style=\"text-align: right;\">\n",
       "      <th></th>\n",
       "      <th>State</th>\n",
       "      <th>Metro</th>\n",
       "      <th>CountyName</th>\n",
       "      <th>Zipcode</th>\n",
       "      <th>2021_07_Rent</th>\n",
       "      <th>Rent_Wage_Ratio</th>\n",
       "      <th>AVG_ANNUAL_INCOME</th>\n",
       "      <th>INCOME_SAMPLE_SIZE</th>\n",
       "    </tr>\n",
       "  </thead>\n",
       "  <tbody>\n",
       "    <tr>\n",
       "      <th>0</th>\n",
       "      <td>NY</td>\n",
       "      <td>New York-Newark-Jersey City</td>\n",
       "      <td>Westchester County</td>\n",
       "      <td>10601</td>\n",
       "      <td>2613.0</td>\n",
       "      <td>0.000017</td>\n",
       "      <td>1.535205e+08</td>\n",
       "      <td>30</td>\n",
       "    </tr>\n",
       "    <tr>\n",
       "      <th>1</th>\n",
       "      <td>NY</td>\n",
       "      <td>New York-Newark-Jersey City</td>\n",
       "      <td>New York County</td>\n",
       "      <td>10019</td>\n",
       "      <td>3004.0</td>\n",
       "      <td>0.000169</td>\n",
       "      <td>1.782192e+07</td>\n",
       "      <td>343</td>\n",
       "    </tr>\n",
       "    <tr>\n",
       "      <th>2</th>\n",
       "      <td>CA</td>\n",
       "      <td>Riverside-San Bernardino-Ontario</td>\n",
       "      <td>San Bernardino County</td>\n",
       "      <td>91761</td>\n",
       "      <td>2061.0</td>\n",
       "      <td>0.001748</td>\n",
       "      <td>1.179054e+06</td>\n",
       "      <td>22</td>\n",
       "    </tr>\n",
       "    <tr>\n",
       "      <th>3</th>\n",
       "      <td>AL</td>\n",
       "      <td>Birmingham-Hoover</td>\n",
       "      <td>Jefferson County</td>\n",
       "      <td>35205</td>\n",
       "      <td>1586.0</td>\n",
       "      <td>0.001781</td>\n",
       "      <td>8.906867e+05</td>\n",
       "      <td>13</td>\n",
       "    </tr>\n",
       "    <tr>\n",
       "      <th>4</th>\n",
       "      <td>OH</td>\n",
       "      <td>Columbus</td>\n",
       "      <td>Franklin County</td>\n",
       "      <td>43202</td>\n",
       "      <td>1338.0</td>\n",
       "      <td>0.001803</td>\n",
       "      <td>7.422145e+05</td>\n",
       "      <td>12</td>\n",
       "    </tr>\n",
       "    <tr>\n",
       "      <th>5</th>\n",
       "      <td>GA</td>\n",
       "      <td>Atlanta-Sandy Springs-Roswell</td>\n",
       "      <td>Gwinnett County</td>\n",
       "      <td>30093</td>\n",
       "      <td>1342.0</td>\n",
       "      <td>0.002038</td>\n",
       "      <td>6.585369e+05</td>\n",
       "      <td>16</td>\n",
       "    </tr>\n",
       "    <tr>\n",
       "      <th>6</th>\n",
       "      <td>FL</td>\n",
       "      <td>Lakeland-Winter Haven</td>\n",
       "      <td>Polk County</td>\n",
       "      <td>33801</td>\n",
       "      <td>1190.0</td>\n",
       "      <td>0.002251</td>\n",
       "      <td>5.286596e+05</td>\n",
       "      <td>12</td>\n",
       "    </tr>\n",
       "    <tr>\n",
       "      <th>7</th>\n",
       "      <td>CA</td>\n",
       "      <td>Los Angeles-Long Beach-Anaheim</td>\n",
       "      <td>Los Angeles County</td>\n",
       "      <td>90501</td>\n",
       "      <td>2324.0</td>\n",
       "      <td>0.002302</td>\n",
       "      <td>1.009657e+06</td>\n",
       "      <td>45</td>\n",
       "    </tr>\n",
       "    <tr>\n",
       "      <th>8</th>\n",
       "      <td>NJ</td>\n",
       "      <td>New York-Newark-Jersey City</td>\n",
       "      <td>Middlesex County</td>\n",
       "      <td>8817</td>\n",
       "      <td>1878.0</td>\n",
       "      <td>0.002473</td>\n",
       "      <td>7.594233e+05</td>\n",
       "      <td>183</td>\n",
       "    </tr>\n",
       "    <tr>\n",
       "      <th>9</th>\n",
       "      <td>OR</td>\n",
       "      <td>Portland-Vancouver-Hillsboro</td>\n",
       "      <td>Multnomah County</td>\n",
       "      <td>97210</td>\n",
       "      <td>1588.0</td>\n",
       "      <td>0.002723</td>\n",
       "      <td>5.831623e+05</td>\n",
       "      <td>17</td>\n",
       "    </tr>\n",
       "  </tbody>\n",
       "</table>\n",
       "</div>"
      ],
      "text/plain": [
       "  State                             Metro             CountyName  Zipcode  \\\n",
       "0    NY       New York-Newark-Jersey City     Westchester County    10601   \n",
       "1    NY       New York-Newark-Jersey City        New York County    10019   \n",
       "2    CA  Riverside-San Bernardino-Ontario  San Bernardino County    91761   \n",
       "3    AL                 Birmingham-Hoover       Jefferson County    35205   \n",
       "4    OH                          Columbus        Franklin County    43202   \n",
       "5    GA     Atlanta-Sandy Springs-Roswell        Gwinnett County    30093   \n",
       "6    FL             Lakeland-Winter Haven            Polk County    33801   \n",
       "7    CA    Los Angeles-Long Beach-Anaheim     Los Angeles County    90501   \n",
       "8    NJ       New York-Newark-Jersey City       Middlesex County     8817   \n",
       "9    OR      Portland-Vancouver-Hillsboro       Multnomah County    97210   \n",
       "\n",
       "   2021_07_Rent  Rent_Wage_Ratio  AVG_ANNUAL_INCOME  INCOME_SAMPLE_SIZE  \n",
       "0        2613.0         0.000017       1.535205e+08                  30  \n",
       "1        3004.0         0.000169       1.782192e+07                 343  \n",
       "2        2061.0         0.001748       1.179054e+06                  22  \n",
       "3        1586.0         0.001781       8.906867e+05                  13  \n",
       "4        1338.0         0.001803       7.422145e+05                  12  \n",
       "5        1342.0         0.002038       6.585369e+05                  16  \n",
       "6        1190.0         0.002251       5.286596e+05                  12  \n",
       "7        2324.0         0.002302       1.009657e+06                  45  \n",
       "8        1878.0         0.002473       7.594233e+05                 183  \n",
       "9        1588.0         0.002723       5.831623e+05                  17  "
      ]
     },
     "execution_count": 3,
     "metadata": {},
     "output_type": "execute_result"
    }
   ],
   "source": [
    "output = spark.sql(\"\"\"\n",
    "SELECT zillow.State, \n",
    "zillow.Metro, \n",
    "zillow.CountyName, \n",
    "zillow.Zipcode, \n",
    "zillow.2021_07_Rent,\n",
    "(zillow.2021_07_Rent/AVG_ANNUAL_INCOME) AS Rent_Wage_Ratio,\n",
    "AVG_ANNUAL_INCOME,\n",
    "INCOME_SAMPLE_SIZE\n",
    "FROM zillow\n",
    "JOIN (SELECT WORKSITE_POSTAL_CODE, \n",
    "             Avg(ANNUAL_INCOME) AS AVG_ANNUAL_INCOME,\n",
    "             Count(ANNUAL_INCOME) AS INCOME_SAMPLE_SIZE\n",
    "      FROM lca\n",
    "      GROUP BY WORKSITE_POSTAL_CODE\n",
    ") lca_wage_by_zip\n",
    "ON lca_wage_by_zip.WORKSITE_POSTAL_CODE = zillow.Zipcode\n",
    "WHERE INCOME_SAMPLE_SIZE>10\n",
    "ORDER BY Rent_Wage_Ratio\n",
    "LIMIT 10\n",
    "\"\"\")\n",
    "output.limit(100).toPandas()"
   ]
  },
  {
   "cell_type": "markdown",
   "metadata": {
    "editable": true
   },
   "source": [
    "*Take home message:* if you are looking for a job and open for relocation, check the opportunies in these cities. A low Rent-to-Wage indicates that the place is nice to live, easy to save money, and potentially attracts new immigrants."
   ]
  }
 ],
 "metadata": {
  "kernelspec": {
   "display_name": "Python 3",
   "language": "python",
   "name": "python3"
  },
  "language_info": {
   "codemirror_mode": {
    "name": "ipython",
    "version": 3
   },
   "file_extension": ".py",
   "mimetype": "text/x-python",
   "name": "python",
   "nbconvert_exporter": "python",
   "pygments_lexer": "ipython3",
   "version": "3.6.3"
  }
 },
 "nbformat": 4,
 "nbformat_minor": 4
}
